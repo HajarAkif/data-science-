{
 "cells": [
  {
   "cell_type": "markdown",
   "id": "405aaf3b",
   "metadata": {},
   "source": [
    "1. Display numbers from -10 to -1 using for loop"
   ]
  },
  {
   "cell_type": "code",
   "execution_count": 15,
   "id": "7ef8116a",
   "metadata": {},
   "outputs": [
    {
     "name": "stdout",
     "output_type": "stream",
     "text": [
      "-10\n",
      "-9\n",
      "-8\n",
      "-7\n",
      "-6\n",
      "-5\n",
      "-4\n",
      "-3\n",
      "-2\n",
      "-1\n"
     ]
    }
   ],
   "source": [
    "for num in range(-10,0):\n",
    "    print (num)"
   ]
  },
  {
   "cell_type": "markdown",
   "id": "e22837e9",
   "metadata": {},
   "source": [
    "2. Given a number count the total number of digits in a number, for example, the number is 75869, so the output should be 5"
   ]
  },
  {
   "cell_type": "code",
   "execution_count": 5,
   "id": "66828ec4",
   "metadata": {},
   "outputs": [
    {
     "name": "stdout",
     "output_type": "stream",
     "text": [
      "Entrez un nombre :75869\n",
      "5\n"
     ]
    }
   ],
   "source": [
    "num =int(input(\"Entrez un nombre :\"))\n",
    "print(len(str(num)))"
   ]
  },
  {
   "cell_type": "markdown",
   "id": "7347ca62",
   "metadata": {},
   "source": [
    "3. Write a function which Displays the cube of the number up to a given integer, for example the number is 2 the cube should be 8"
   ]
  },
  {
   "cell_type": "code",
   "execution_count": 11,
   "id": "60eb81a3",
   "metadata": {},
   "outputs": [
    {
     "name": "stdout",
     "output_type": "stream",
     "text": [
      "the cube of the number is:  8\n"
     ]
    }
   ],
   "source": [
    "def cube_number(num,p):\n",
    "    if num != 0 :\n",
    "        print(\"the cube of the number is: \", num**p)\n",
    "cube_number(2,3)"
   ]
  },
  {
   "cell_type": "markdown",
   "id": "7c07288e",
   "metadata": {},
   "source": [
    "4. Given two integer numbers return their product. If the product is greater than 1000, then return their sum"
   ]
  },
  {
   "cell_type": "code",
   "execution_count": 17,
   "id": "6f470e8f",
   "metadata": {},
   "outputs": [
    {
     "name": "stdout",
     "output_type": "stream",
     "text": [
      "The sum of the two integer numbers is 2010\n"
     ]
    }
   ],
   "source": [
    "def my_function(a,b):\n",
    "    if a*b>1000:\n",
    "        print(\"The sum of the two integer numbers is\", a+b)\n",
    "    else:\n",
    "        print(\"The product of the two integer numbers is\", a*b)\n",
    "my_function(2000,10)    "
   ]
  },
  {
   "cell_type": "markdown",
   "id": "6cf980c5",
   "metadata": {},
   "source": [
    "5. Given a list of numbers, return True if first and last number of a list is same"
   ]
  },
  {
   "cell_type": "code",
   "execution_count": 27,
   "id": "dcd47e59",
   "metadata": {},
   "outputs": [
    {
     "name": "stdout",
     "output_type": "stream",
     "text": [
      "true\n"
     ]
    }
   ],
   "source": [
    "def my_list(L):\n",
    "    if L[0] == L[-1]:\n",
    "        print(\"true\")\n",
    "    else:\n",
    "        print(\"false\")\n",
    "my_list([2,5,9,2,4,87,47,100,2])"
   ]
  },
  {
   "cell_type": "markdown",
   "id": "b173e5a8",
   "metadata": {},
   "source": [
    "6. Given a two list of numbers create a new list such that new list should contain only odd numbers from the first list and even numbers from the second list, for example list1 =  [10, 20, 23, 11, 17] and list 2 = [13, 43, 24, 36, 12]  => result should be [23, 11, 17, 24, 36, 12]"
   ]
  },
  {
   "cell_type": "code",
   "execution_count": 33,
   "id": "1440dc70",
   "metadata": {},
   "outputs": [
    {
     "name": "stdout",
     "output_type": "stream",
     "text": [
      "[23, 11, 17, 24, 36, 12]\n"
     ]
    }
   ],
   "source": [
    "def list(A,B):\n",
    "    C=[]\n",
    "    for x in A:\n",
    "        if x % 2 !=0:\n",
    "            C+=[x]\n",
    "    for x in B:\n",
    "        if x % 2 ==0:\n",
    "            C+=[x]\n",
    "    print(C)\n",
    "list([10, 20, 23, 11, 17] , [13, 43, 24, 36, 12] )        "
   ]
  },
  {
   "cell_type": "markdown",
   "id": "37f92a18",
   "metadata": {},
   "source": [
    "7. Write a function which Iterates a given list and counts the occurrence of each element and creates a dictionary to show the count of each element, for example: input list  [11, 45, 8, 11, 23, 45, 23, 45, 89]=> result should be {11: 2, 45: 3, 8: 1, 23: 2, 89: 1}"
   ]
  },
  {
   "cell_type": "code",
   "execution_count": 36,
   "id": "875ac79c",
   "metadata": {},
   "outputs": [
    {
     "name": "stdout",
     "output_type": "stream",
     "text": [
      "{11: 2, 45: 3, 8: 1, 23: 2, 89: 1}\n"
     ]
    }
   ],
   "source": [
    "def Occurrence(L):\n",
    "    D= {}\n",
    "    for i in L:\n",
    "        if i in D:\n",
    "            D[i] +=1\n",
    "        else:\n",
    "            D[i] =1\n",
    "    return D\n",
    "l=[11, 45, 8, 11, 23, 45, 23, 45, 89]\n",
    "print(Occurrence(l))"
   ]
  },
  {
   "cell_type": "markdown",
   "id": "732740cc",
   "metadata": {},
   "source": [
    "8. Write a function which finds the intersection of two sets and removes common elements from the first set. for example: First Set  {65, 42, 78, 83, 23, 57, 29} and Second Set  {67, 73, 43, 48, 83, 57, 29} => Intersection should be  {57, 83, 29} and First Set after removing common element  {65, 42, 78, 23}"
   ]
  },
  {
   "cell_type": "code",
   "execution_count": 53,
   "id": "c7c2c904",
   "metadata": {},
   "outputs": [
    {
     "name": "stdout",
     "output_type": "stream",
     "text": [
      "The intersection of two sets is: {57, 83, 29} First Set after removing common element : {65, 42, 78, 23}\n"
     ]
    }
   ],
   "source": [
    "def intersection_two_sets(A,B):\n",
    "    C= set()\n",
    "    D= set()\n",
    "    for i in A:\n",
    "        if i in B:\n",
    "            C.add(i)\n",
    "        else:\n",
    "            D.add(i)\n",
    "    return print(\"The intersection of two sets is:\", C, \"First Set after removing common element :\",D)\n",
    "A={65, 42, 78, 83, 23, 57, 29}\n",
    "B={67, 73, 43, 48, 83, 57, 29}\n",
    "intersection_two_sets(A,B)"
   ]
  },
  {
   "cell_type": "code",
   "execution_count": null,
   "id": "41a756fb",
   "metadata": {},
   "outputs": [],
   "source": []
  }
 ],
 "metadata": {
  "kernelspec": {
   "display_name": "Python 3 (ipykernel)",
   "language": "python",
   "name": "python3"
  },
  "language_info": {
   "codemirror_mode": {
    "name": "ipython",
    "version": 3
   },
   "file_extension": ".py",
   "mimetype": "text/x-python",
   "name": "python",
   "nbconvert_exporter": "python",
   "pygments_lexer": "ipython3",
   "version": "3.9.13"
  }
 },
 "nbformat": 4,
 "nbformat_minor": 5
}
