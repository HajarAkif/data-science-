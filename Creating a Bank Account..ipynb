{
 "cells": [
  {
   "cell_type": "markdown",
   "id": "0976831b",
   "metadata": {},
   "source": [
    "\n",
    "Define the Account class and its attributes as specified above."
   ]
  },
  {
   "cell_type": "code",
   "execution_count": 9,
   "id": "6a449a43",
   "metadata": {},
   "outputs": [],
   "source": [
    "class Account:\n",
    "    def __init__(self, number,balance,holder):\n",
    "        self.number = number\n",
    "        self.balance = balance\n",
    "        self.holder = holder \n",
    "    def deposit(self, amount):\n",
    "        self.balance += amount\n",
    "    def withdraw(self,amount):\n",
    "        if self.balance > amount:\n",
    "            self.balance-=amount\n",
    "        else:\n",
    "            print(\"sir f7alak ma3endksh floss\")\n",
    "    def checkBalance(self):\n",
    "        return self.balance   "
   ]
  },
  {
   "cell_type": "markdown",
   "id": "6f5f5fba",
   "metadata": {},
   "source": [
    "Define the deposit() method. It should take in one argument, the amount to be deposited, and add it to the account balance."
   ]
  },
  {
   "cell_type": "code",
   "execution_count": 14,
   "id": "0ed067aa",
   "metadata": {},
   "outputs": [
    {
     "name": "stdout",
     "output_type": "stream",
     "text": [
      "sir f7alak ma3endksh floss\n"
     ]
    },
    {
     "data": {
      "text/plain": [
       "3000000.3"
      ]
     },
     "execution_count": 14,
     "metadata": {},
     "output_type": "execute_result"
    }
   ],
   "source": [
    "hajar_account = Account(\"19283\",2000000.3,\"hajar\")\n",
    "hajar_account.deposit(1000000)\n",
    "hajar_account.checkBalance()\n",
    "hajar_account.withdraw(4000000)\n",
    "hajar_account.checkBalance()"
   ]
  },
  {
   "cell_type": "code",
   "execution_count": 18,
   "id": "e4119b30",
   "metadata": {},
   "outputs": [
    {
     "name": "stdout",
     "output_type": "stream",
     "text": [
      "7000200\n",
      "3001200\n"
     ]
    }
   ],
   "source": [
    "khaoula_account = Account(\"52147\",8000000,\"khaoula\")\n",
    "Meriam_account= Account(\"772147\",10000000,\"Meriam\")\n",
    "\n",
    "khaoula_account. deposit(200)\n",
    "Meriam_account. deposit(1200)\n",
    "\n",
    "khaoula_account. withdraw(1000000)\n",
    "Meriam_account. withdraw(7000000)\n",
    "\n",
    "\n",
    "print(khaoula_account.checkBalance()) \n",
    "print(Meriam_account.checkBalance())\n",
    "\n",
    "\n"
   ]
  },
  {
   "cell_type": "code",
   "execution_count": null,
   "id": "31e57c23",
   "metadata": {},
   "outputs": [],
   "source": []
  }
 ],
 "metadata": {
  "kernelspec": {
   "display_name": "Python 3 (ipykernel)",
   "language": "python",
   "name": "python3"
  },
  "language_info": {
   "codemirror_mode": {
    "name": "ipython",
    "version": 3
   },
   "file_extension": ".py",
   "mimetype": "text/x-python",
   "name": "python",
   "nbconvert_exporter": "python",
   "pygments_lexer": "ipython3",
   "version": "3.9.13"
  }
 },
 "nbformat": 4,
 "nbformat_minor": 5
}
