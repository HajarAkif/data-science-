{
 "cells": [
  {
   "cell_type": "code",
   "execution_count": 1,
   "id": "2f55645a",
   "metadata": {},
   "outputs": [],
   "source": [
    "import streamlit as st\n",
    "from sklearn.datasets import load_iris\n",
    "from sklearn.ensemble import RandomForestClassifier"
   ]
  },
  {
   "cell_type": "code",
   "execution_count": 2,
   "id": "482765ff",
   "metadata": {},
   "outputs": [],
   "source": [
    "iris = load_iris()\n",
    "X = iris.data\n",
    "Y = iris.target"
   ]
  },
  {
   "cell_type": "code",
   "execution_count": 3,
   "id": "38fd1875",
   "metadata": {},
   "outputs": [],
   "source": [
    "clf = RandomForestClassifier()"
   ]
  },
  {
   "cell_type": "code",
   "execution_count": 4,
   "id": "aeee856f",
   "metadata": {},
   "outputs": [
    {
     "data": {
      "text/plain": [
       "RandomForestClassifier()"
      ]
     },
     "execution_count": 4,
     "metadata": {},
     "output_type": "execute_result"
    }
   ],
   "source": [
    "clf.fit(X, Y)"
   ]
  },
  {
   "cell_type": "code",
   "execution_count": 5,
   "id": "a40c297d",
   "metadata": {},
   "outputs": [
    {
     "name": "stderr",
     "output_type": "stream",
     "text": [
      "2023-07-15 15:06:44.028 \n",
      "  \u001b[33m\u001b[1mWarning:\u001b[0m to view this Streamlit app on a browser, run it with the following\n",
      "  command:\n",
      "\n",
      "    streamlit run C:\\Users\\ab\\anaconda3\\lib\\site-packages\\ipykernel_launcher.py [ARGUMENTS]\n"
     ]
    },
    {
     "data": {
      "text/plain": [
       "DeltaGenerator()"
      ]
     },
     "execution_count": 5,
     "metadata": {},
     "output_type": "execute_result"
    }
   ],
   "source": [
    "st.title(\"Iris Flower Classification\")\n",
    "st.header(\"Enter the measurements of the iris flower:\")"
   ]
  },
  {
   "cell_type": "code",
   "execution_count": 6,
   "id": "63782095",
   "metadata": {},
   "outputs": [],
   "source": [
    "sepal_length = st.slider(\"Sepal Length\", float(X[:, 0].min()), float(X[:, 0].max()), float(X[:, 0].mean()))\n",
    "sepal_width = st.slider(\"Sepal Width\", float(X[:, 1].min()), float(X[:, 1].max()), float(X[:, 1].mean()))\n",
    "petal_length = st.slider(\"Petal Length\", float(X[:, 2].min()), float(X[:, 2].max()), float(X[:, 2].mean()))\n",
    "petal_width = st.slider(\"Petal Width\", float(X[:, 3].min()), float(X[:, 3].max()), float(X[:, 3].mean()))"
   ]
  },
  {
   "cell_type": "code",
   "execution_count": 7,
   "id": "f753e4b7",
   "metadata": {},
   "outputs": [],
   "source": [
    "if st.button(\"Predict\"):\n",
    "    input_data = [[sepal_length, sepal_width, petal_length, petal_width]]\n",
    "    prediction = clf.predict(input_data)\n",
    "\n",
    "    flower_types = iris.target_names\n",
    "    predicted_flower = flower_types[prediction[0]]\n",
    "    st.write(\"Predicted Iris Flower Type:\", predicted_flower)"
   ]
  },
  {
   "cell_type": "code",
   "execution_count": null,
   "id": "0f11a28d",
   "metadata": {},
   "outputs": [],
   "source": []
  }
 ],
 "metadata": {
  "kernelspec": {
   "display_name": "Python 3 (ipykernel)",
   "language": "python",
   "name": "python3"
  },
  "language_info": {
   "codemirror_mode": {
    "name": "ipython",
    "version": 3
   },
   "file_extension": ".py",
   "mimetype": "text/x-python",
   "name": "python",
   "nbconvert_exporter": "python",
   "pygments_lexer": "ipython3",
   "version": "3.9.13"
  }
 },
 "nbformat": 4,
 "nbformat_minor": 5
}
