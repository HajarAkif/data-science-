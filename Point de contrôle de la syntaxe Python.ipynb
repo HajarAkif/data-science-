{
 "cells": [
  {
   "cell_type": "raw",
   "id": "31361d78",
   "metadata": {},
   "source": [
    "Question 1 : Écrire un programme Python qui accepte un entier (n) et calcule la valeur de n+nn+nnn\n",
    "La valeur d'échantillon de n est 5 \n",
    "Résultat Attendu : 615 (5+55+555)"
   ]
  },
  {
   "cell_type": "code",
   "execution_count": 27,
   "id": "6dbd24e3",
   "metadata": {},
   "outputs": [
    {
     "name": "stdout",
     "output_type": "stream",
     "text": [
      "615\n"
     ]
    }
   ],
   "source": [
    "x=5\n",
    "sum = 0\n",
    "for i in range(1,4):\n",
    "    sum= int(str(x)*i)+ sum\n",
    "print(sum)"
   ]
  },
  {
   "cell_type": "markdown",
   "id": "5532ad4a",
   "metadata": {},
   "source": [
    "Question 2 :\n",
    "Écrivez un programme Python pour savoir si un nombre donné (accepté par l'utilisateur) est pair ou impair, imprimez un message approprié à l'utilisateur."
   ]
  },
  {
   "cell_type": "code",
   "execution_count": 6,
   "id": "c1df758f",
   "metadata": {
    "scrolled": true
   },
   "outputs": [
    {
     "name": "stdout",
     "output_type": "stream",
     "text": [
      "Entrez un nombre: 15\n",
      "le nombre donné est impair\n"
     ]
    }
   ],
   "source": [
    "num = int(input(\"Entrez un nombre: \"))\n",
    "if num / 2 ==0:\n",
    "    print(\"Le nombre donné est pair\")\n",
    "else :\n",
    "    print(\"le nombre donné est impair\")"
   ]
  },
  {
   "cell_type": "markdown",
   "id": "be99233b",
   "metadata": {},
   "source": [
    "Question 3:\n",
    "Écrivez un programme qui trouvera tous ces nombres qui sont divisibles par 7 mais qui ne sont pas un multiple de 5, entre 2000 et 3200 (les deux inclus). Les nombres obtenus doivent être imprimés en séquence sur une seule ligne."
   ]
  },
  {
   "cell_type": "code",
   "execution_count": 25,
   "id": "f43d2d04",
   "metadata": {},
   "outputs": [
    {
     "name": "stdout",
     "output_type": "stream",
     "text": [
      "[2002, 2009, 2016, 2023, 2037, 2044, 2051, 2058, 2072, 2079, 2086, 2093, 2107, 2114, 2121, 2128, 2142, 2149, 2156, 2163, 2177, 2184, 2191, 2198, 2212, 2219, 2226, 2233, 2247, 2254, 2261, 2268, 2282, 2289, 2296, 2303, 2317, 2324, 2331, 2338, 2352, 2359, 2366, 2373, 2387, 2394, 2401, 2408, 2422, 2429, 2436, 2443, 2457, 2464, 2471, 2478, 2492, 2499, 2506, 2513, 2527, 2534, 2541, 2548, 2562, 2569, 2576, 2583, 2597, 2604, 2611, 2618, 2632, 2639, 2646, 2653, 2667, 2674, 2681, 2688, 2702, 2709, 2716, 2723, 2737, 2744, 2751, 2758, 2772, 2779, 2786, 2793, 2807, 2814, 2821, 2828, 2842, 2849, 2856, 2863, 2877, 2884, 2891, 2898, 2912, 2919, 2926, 2933, 2947, 2954, 2961, 2968, 2982, 2989, 2996, 3003, 3017, 3024, 3031, 3038, 3052, 3059, 3066, 3073, 3087, 3094, 3101, 3108, 3122, 3129, 3136, 3143, 3157, 3164, 3171, 3178, 3192, 3199]\n"
     ]
    }
   ],
   "source": [
    "n=list(range(2000, 3201, 1))\n",
    "l = []\n",
    "for x in n:\n",
    "    if x % 7 == 0 and x % 5 != 0:\n",
    "        l.append(x)\n",
    "print(l)"
   ]
  },
  {
   "cell_type": "raw",
   "id": "60189836",
   "metadata": {},
   "source": [
    "Question 4 :\n",
    "Ecrire un programme capable de calculer la factorielle d'un nombre donné. Les résultats doivent être imprimés en séquence sur une seule ligne. Supposons que l'entrée suivante soit fournie au programme : 8 Alors, la sortie devrait être : 40320 "
   ]
  },
  {
   "cell_type": "code",
   "execution_count": 29,
   "id": "c1fb371f",
   "metadata": {
    "scrolled": true
   },
   "outputs": [
    {
     "data": {
      "text/plain": [
       "40320"
      ]
     },
     "execution_count": 29,
     "metadata": {},
     "output_type": "execute_result"
    }
   ],
   "source": [
    "def factorielle(n):\n",
    "    if n == 0:\n",
    "        return 1\n",
    "    else:\n",
    "        F = 1\n",
    "        for k in range(2,n+1):\n",
    "            F = F * k\n",
    "        return F\n",
    "factorielle(8)"
   ]
  },
  {
   "cell_type": "markdown",
   "id": "71337ab9",
   "metadata": {},
   "source": [
    "Question 5 :\n",
    "Écrivez un programme pour supprimer les caractères qui ont des valeurs d'index impaires d'une chaîne donnée.\n",
    "par exemple : string=\"hello team\"\n",
    "le résultat devrait être : hlota"
   ]
  },
  {
   "cell_type": "code",
   "execution_count": 34,
   "id": "42208176",
   "metadata": {},
   "outputs": [
    {
     "data": {
      "text/plain": [
       "'hlota'"
      ]
     },
     "execution_count": 34,
     "metadata": {},
     "output_type": "execute_result"
    }
   ],
   "source": [
    "x=\"hello team\"\n",
    "New=\"\"\n",
    "for i,l in enumerate(x):\n",
    "    if i%2 == 0:\n",
    "        New = New + l\n",
    "New"
   ]
  },
  {
   "cell_type": "code",
   "execution_count": null,
   "id": "e5b6f016",
   "metadata": {},
   "outputs": [],
   "source": []
  }
 ],
 "metadata": {
  "kernelspec": {
   "display_name": "Python 3 (ipykernel)",
   "language": "python",
   "name": "python3"
  },
  "language_info": {
   "codemirror_mode": {
    "name": "ipython",
    "version": 3
   },
   "file_extension": ".py",
   "mimetype": "text/x-python",
   "name": "python",
   "nbconvert_exporter": "python",
   "pygments_lexer": "ipython3",
   "version": "3.9.13"
  }
 },
 "nbformat": 4,
 "nbformat_minor": 5
}
