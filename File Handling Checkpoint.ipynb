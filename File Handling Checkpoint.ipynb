{
 "cells": [
  {
   "cell_type": "markdown",
   "id": "c45b14e2",
   "metadata": {},
   "source": [
    "1. Write a Python program to read an entire text file."
   ]
  },
  {
   "cell_type": "code",
   "execution_count": 25,
   "id": "011eb631",
   "metadata": {},
   "outputs": [
    {
     "name": "stdout",
     "output_type": "stream",
     "text": [
      "Python est le langage de programmation informatique le plus populaire et le plus utilisé,notamment dans le domaine de la Data Science et du Machine Learning.\n",
      "Python possède de nombreuses librairies qui font déjà probablement ce que vous souhaitez.\n"
     ]
    }
   ],
   "source": [
    "f1 = open(\"test1.txt\", \"r\",encoding = 'utf-8')\n",
    "data = f1.read()\n",
    "print(data)"
   ]
  },
  {
   "cell_type": "markdown",
   "id": "51c8532c",
   "metadata": {},
   "source": [
    "2. Write a Python program to read first n lines of a file. (try to use readlines() function)"
   ]
  },
  {
   "cell_type": "code",
   "execution_count": 26,
   "id": "61767c82",
   "metadata": {},
   "outputs": [
    {
     "name": "stdout",
     "output_type": "stream",
     "text": [
      "Python est le langage de programmation informatique le plus populaire et le plus utilisé,notamment dans le domaine de la Data Science et du Machine Learning.\n"
     ]
    }
   ],
   "source": [
    "f1 = open(\"test1.txt\", \"r\",encoding = 'utf-8')\n",
    "lines= f1.readlines()\n",
    "for textline in (lines[:1]):\n",
    "    print(textline, end ='')"
   ]
  },
  {
   "cell_type": "code",
   "execution_count": 27,
   "id": "01577f36",
   "metadata": {},
   "outputs": [
    {
     "name": "stdout",
     "output_type": "stream",
     "text": [
      "Python est le langage de programmation informatique le plus populaire et le plus utilisé,notamment dans le domaine de la Data Science et du Machine Learning.\n"
     ]
    }
   ],
   "source": [
    "def FirstNlines(fname, N):\n",
    "    fname = open(\"test1.txt\", \"r\",encoding = 'utf-8')\n",
    "    for line in (fname.readlines() [:N]):\n",
    "        print(line, end ='')\n",
    "f1 = open(\"test1.txt\", \"r\",encoding = 'utf-8')            \n",
    "FirstNlines(f1,1)"
   ]
  },
  {
   "cell_type": "markdown",
   "id": "cff1cb79",
   "metadata": {},
   "source": [
    "3. Write a Python program to read last n lines of a file."
   ]
  },
  {
   "cell_type": "code",
   "execution_count": 28,
   "id": "6b69d3a0",
   "metadata": {},
   "outputs": [
    {
     "name": "stdout",
     "output_type": "stream",
     "text": [
      "Python possède de nombreuses librairies qui font déjà probablement ce que vous souhaitez."
     ]
    }
   ],
   "source": [
    "def LastNlines(fname, N):\n",
    "    fname = open(\"test1.txt\", \"r\",encoding = 'utf-8')\n",
    "    for line in (fname.readlines() [-N:]):\n",
    "        print(line, end ='')\n",
    "f1 = open(\"test1.txt\", \"r\",encoding = 'utf-8')            \n",
    "LastNlines(f1,1)"
   ]
  },
  {
   "cell_type": "code",
   "execution_count": 29,
   "id": "6ba4275b",
   "metadata": {},
   "outputs": [
    {
     "name": "stdout",
     "output_type": "stream",
     "text": [
      "Python possède de nombreuses librairies qui font déjà probablement ce que vous souhaitez."
     ]
    }
   ],
   "source": [
    "def LastNlines(fname):\n",
    "    fname = open(\"test1.txt\", \"r\",encoding = 'utf-8')\n",
    "    for line in (fname.readlines() [-1:]):\n",
    "        print(line, end ='')\n",
    "f1 = open(\"test1.txt\", \"r\",encoding = 'utf-8')            \n",
    "LastNlines(f1)"
   ]
  },
  {
   "cell_type": "markdown",
   "id": "ceee5ae3",
   "metadata": {},
   "source": [
    "4. Write a Python program that takes a text file as input and returns the number of words of a given text file."
   ]
  },
  {
   "cell_type": "code",
   "execution_count": 32,
   "id": "4118fcbf",
   "metadata": {},
   "outputs": [
    {
     "name": "stdout",
     "output_type": "stream",
     "text": [
      "38\n"
     ]
    }
   ],
   "source": [
    "number_of_words = 0\n",
    "f1 = open(\"test1.txt\", \"r\",encoding = 'utf-8') \n",
    "data = f1.read()\n",
    "lines = data.split()\n",
    "number_of_words += len(lines)\n",
    "print(number_of_words)"
   ]
  }
 ],
 "metadata": {
  "kernelspec": {
   "display_name": "Python 3 (ipykernel)",
   "language": "python",
   "name": "python3"
  },
  "language_info": {
   "codemirror_mode": {
    "name": "ipython",
    "version": 3
   },
   "file_extension": ".py",
   "mimetype": "text/x-python",
   "name": "python",
   "nbconvert_exporter": "python",
   "pygments_lexer": "ipython3",
   "version": "3.9.13"
  }
 },
 "nbformat": 4,
 "nbformat_minor": 5
}
