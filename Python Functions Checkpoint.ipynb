{
 "cells": [
  {
   "cell_type": "markdown",
   "id": "5a6cd8cb",
   "metadata": {},
   "source": [
    "Q1: Write a Python function to find the Max of three numbers."
   ]
  },
  {
   "cell_type": "code",
   "execution_count": 6,
   "id": "5ddd4290",
   "metadata": {},
   "outputs": [
    {
     "data": {
      "text/plain": [
       "105"
      ]
     },
     "execution_count": 6,
     "metadata": {},
     "output_type": "execute_result"
    }
   ],
   "source": [
    "def maximum(a,b,c):\n",
    "    if a>b and a>c:\n",
    "        return(a)\n",
    "    elif b>a and b>c:\n",
    "        return(b)\n",
    "    else:\n",
    "        return(c)\n",
    "max= maximum(15,105,2)\n",
    "max "
   ]
  },
  {
   "cell_type": "markdown",
   "id": "31ce5399",
   "metadata": {},
   "source": [
    "Q2: Write a function calculation() such that it can accept two variables and calculate the addition and subtraction of it. And also it must return both addition and subtraction in a single return call. For example: calculation(40, 10) should produce 50, 30"
   ]
  },
  {
   "cell_type": "code",
   "execution_count": 2,
   "id": "79ba42c6",
   "metadata": {},
   "outputs": [
    {
     "name": "stdout",
     "output_type": "stream",
     "text": [
      "50 30\n"
     ]
    }
   ],
   "source": [
    "def operation(x,y):\n",
    "    print((x+y),(x-y))\n",
    "operation(40,10)"
   ]
  },
  {
   "cell_type": "markdown",
   "id": "888e1897",
   "metadata": {},
   "source": [
    "Q3:  Write a function that sums the elements of a list of integers.\n",
    "* Write a function that multiplies the elements of an integer list.\n",
    "* Use the two functions to sum the elements whose position is an even number (0,2,4…) and multiply the rest.\n",
    "Hint: Consider extracting two lists from a first list "
   ]
  },
  {
   "cell_type": "code",
   "execution_count": 56,
   "id": "9b2595ce",
   "metadata": {},
   "outputs": [
    {
     "name": "stdout",
     "output_type": "stream",
     "text": [
      "Sum of all elements in given list is:  11\n",
      "Multiplie of all elements in given list is:  36\n",
      "Sum of all elements whose position is an even number is: 18 Multiplie of the rest is: 15\n"
     ]
    }
   ],
   "source": [
    "#Write a function that sums the elements of a list of integers.\n",
    "def sum_list(items):\n",
    "    sum=0\n",
    "    for x in items:\n",
    "        sum+= x\n",
    "    return sum\n",
    "print(\"Sum of all elements in given list is: \",sum_list([2,3,6]))\n",
    "#Write a function that multiplies the elements of an integer list.\n",
    "def multiply_list(items):\n",
    "    mul = 1\n",
    "    for x in items:\n",
    "        mul *= x\n",
    "    return mul\n",
    "print(\"Multiplie of all elements in given list is: \",multiply_list([2,3,6]))\n",
    "#Use the two functions to sum the elements whose position is an even number (0,2,4…) and multiply the rest.\n",
    "def my_function(L,n):\n",
    "    i=0\n",
    "    sum=0\n",
    "    mul=1\n",
    "    for x in L:\n",
    "        for i in range(0,n):\n",
    "            if i%2==0:\n",
    "                sum+= L[i]\n",
    "            else:\n",
    "                mul*=L[i]\n",
    "        return print(\"Sum of all elements whose position is an even number is:\", sum, \"Multiplie of the rest is:\",mul)\n",
    "L=[2,3,6,5,10]\n",
    "n= len(L)\n",
    "my_function(L,n)"
   ]
  },
  {
   "cell_type": "markdown",
   "id": "6f88a58c",
   "metadata": {},
   "source": [
    "Q4: Write a Python program that accepts a hyphen-separated sequence of words as input and prints the words in a hyphen-separated sequence after sorting them alphabetically.\n",
    "Sample Items : green-red-yellow-black-white\n",
    "Expected Result : black-green-red-white-yellow\n",
    "Hint : There's a sort function for lists"
   ]
  },
  {
   "cell_type": "code",
   "execution_count": 55,
   "id": "08f94550",
   "metadata": {},
   "outputs": [
    {
     "name": "stdout",
     "output_type": "stream",
     "text": [
      "['black', 'green', 'red', 'white', 'yellow']\n"
     ]
    }
   ],
   "source": [
    "my_list=[\"green\",\"red\",\"yellow\",\"black\",\"white\"]\n",
    "my_list.sort()\n",
    "print(my_list)"
   ]
  }
 ],
 "metadata": {
  "kernelspec": {
   "display_name": "Python 3 (ipykernel)",
   "language": "python",
   "name": "python3"
  },
  "language_info": {
   "codemirror_mode": {
    "name": "ipython",
    "version": 3
   },
   "file_extension": ".py",
   "mimetype": "text/x-python",
   "name": "python",
   "nbconvert_exporter": "python",
   "pygments_lexer": "ipython3",
   "version": "3.9.13"
  }
 },
 "nbformat": 4,
 "nbformat_minor": 5
}
