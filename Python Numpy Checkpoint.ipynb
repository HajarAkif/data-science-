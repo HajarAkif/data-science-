{
 "cells": [
  {
   "cell_type": "markdown",
   "id": "6ef28d8e",
   "metadata": {},
   "source": [
    "Write a Python program to convert an array to an ordinary list with the same items."
   ]
  },
  {
   "cell_type": "code",
   "execution_count": 1,
   "id": "52386b6e",
   "metadata": {},
   "outputs": [
    {
     "name": "stdout",
     "output_type": "stream",
     "text": [
      "[[1, 2, 3], [4, 5, 6]]\n"
     ]
    }
   ],
   "source": [
    "import numpy as np\n",
    "def my_function(array):\n",
    "    list = array.tolist()\n",
    "    print (list)\n",
    "array = np.array([[1,2,3],[4,5,6]])\n",
    "my_function(array)"
   ]
  },
  {
   "cell_type": "markdown",
   "id": "4e3a0557",
   "metadata": {},
   "source": [
    "Write a NumPy program to compute the sum of the diagonal element of a given array."
   ]
  },
  {
   "cell_type": "code",
   "execution_count": 23,
   "id": "cc67a342",
   "metadata": {},
   "outputs": [
    {
     "name": "stdout",
     "output_type": "stream",
     "text": [
      "\n",
      "Sum of Diagonal elements is:\n",
      "143\n"
     ]
    }
   ],
   "source": [
    "import numpy as np\n",
    "def sum_diagonal(array):\n",
    "    diag = np.diagonal(array)\n",
    "    print(\"\\nSum of Diagonal elements is:\")\n",
    "    print(sum(diag))\n",
    "array = np.array([[10,88,39],[40,59,68],[10,55,74]])\n",
    "sum_diagonal(array)  "
   ]
  },
  {
   "cell_type": "markdown",
   "id": "1bab0641",
   "metadata": {},
   "source": [
    "Given an array of your choice, get all the values higher than X :if a = [[1,2],[3,5]] and x = 2 :  then 3 and 5 are higher than 2."
   ]
  },
  {
   "cell_type": "code",
   "execution_count": 42,
   "id": "4c12a48c",
   "metadata": {},
   "outputs": [
    {
     "name": "stdout",
     "output_type": "stream",
     "text": [
      "Entrez la valeur de y: 2\n",
      "Values bigger than y = [ 7  3  5 75]\n"
     ]
    }
   ],
   "source": [
    "import numpy as np\n",
    "x = np.array([[1,7],[3,5],[2,75]])\n",
    "y= int(input(\"Entrez la valeur de y: \"))\n",
    "print(\"Values bigger than y =\", x[x>y])"
   ]
  },
  {
   "cell_type": "markdown",
   "id": "2d977b60",
   "metadata": {},
   "source": [
    "Given two arrays A&B having the same shape. The task is to apply addition of A and B : C is the new array. "
   ]
  },
  {
   "cell_type": "code",
   "execution_count": 48,
   "id": "6f2e719f",
   "metadata": {},
   "outputs": [
    {
     "name": "stdout",
     "output_type": "stream",
     "text": [
      "[[ 3  9 42]\n",
      " [ 8 14  7]\n",
      " [ 1 12 11]]\n"
     ]
    }
   ],
   "source": [
    "import numpy as np\n",
    "def my_function(array1, array2):\n",
    "    array3= np.array([])\n",
    "    if array1.shape == array2.shape:\n",
    "        array3= array1+array2\n",
    "        print(array3)\n",
    "array1=np.array([[1,8,3],[4,9,6],[0,5,7]])\n",
    "array2=np.array([[2,1,39],[4,5,1],[1,7,4]])\n",
    "my_function(array1,array2)\n",
    "        "
   ]
  }
 ],
 "metadata": {
  "kernelspec": {
   "display_name": "Python 3 (ipykernel)",
   "language": "python",
   "name": "python3"
  },
  "language_info": {
   "codemirror_mode": {
    "name": "ipython",
    "version": 3
   },
   "file_extension": ".py",
   "mimetype": "text/x-python",
   "name": "python",
   "nbconvert_exporter": "python",
   "pygments_lexer": "ipython3",
   "version": "3.9.13"
  }
 },
 "nbformat": 4,
 "nbformat_minor": 5
}
