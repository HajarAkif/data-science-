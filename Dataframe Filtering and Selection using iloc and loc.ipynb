{
 "cells": [
  {
   "cell_type": "code",
   "execution_count": 2,
   "id": "a4662be1",
   "metadata": {},
   "outputs": [
    {
     "name": "stdout",
     "output_type": "stream",
     "text": [
      "    Name Department  Age  Gender  Salary  Experience\n",
      "0   John         IT   30    Male   50000           3\n",
      "1   Mary  Marketing   40  Female   60000           7\n",
      "2    Bob      Sales   25    Male   45000           2\n",
      "3  Sarah         IT   35  Female   55000           5\n",
      "4    Tom    Finance   45    Male   70000          10\n",
      "5   Lisa  Marketing   28  Female   55000           4\n"
     ]
    }
   ],
   "source": [
    "import pandas as pd\n",
    "data = {'Name': ['John', 'Mary', 'Bob', 'Sarah', 'Tom', 'Lisa'], \n",
    "        'Department': ['IT', 'Marketing', 'Sales', 'IT', 'Finance', 'Marketing'], \n",
    "        'Age': [30, 40, 25, 35, 45, 28], \n",
    "        'Gender': ['Male', 'Female', 'Male', 'Female', 'Male', 'Female'], \n",
    "        'Salary': [50000, 60000, 45000, 55000, 70000, 55000], \n",
    "        'Experience': [3, 7, 2, 5, 10, 4]}\n",
    "employee_df = pd.DataFrame(data)\n",
    "print(employee_df)"
   ]
  },
  {
   "cell_type": "markdown",
   "id": "6cd8cd38",
   "metadata": {},
   "source": [
    "1.Use the iloc method to select the first 3 rows of the dataframe.\n"
   ]
  },
  {
   "cell_type": "code",
   "execution_count": 3,
   "id": "406ef097",
   "metadata": {},
   "outputs": [
    {
     "name": "stdout",
     "output_type": "stream",
     "text": [
      "   Name Department  Age  Gender  Salary  Experience\n",
      "0  John         IT   30    Male   50000           3\n",
      "1  Mary  Marketing   40  Female   60000           7\n",
      "2   Bob      Sales   25    Male   45000           2\n"
     ]
    }
   ],
   "source": [
    "first_3_rows = employee_df.iloc[:3]\n",
    "print(first_3_rows)"
   ]
  },
  {
   "cell_type": "markdown",
   "id": "f4dcc42a",
   "metadata": {},
   "source": [
    "2.Use the loc method to select all rows where the Department is \"Marketing\".\n"
   ]
  },
  {
   "cell_type": "code",
   "execution_count": 4,
   "id": "33b072c8",
   "metadata": {},
   "outputs": [
    {
     "name": "stdout",
     "output_type": "stream",
     "text": [
      "   Name Department  Age  Gender  Salary  Experience\n",
      "1  Mary  Marketing   40  Female   60000           7\n",
      "5  Lisa  Marketing   28  Female   55000           4\n"
     ]
    }
   ],
   "source": [
    "marketing_dept = employee_df.loc[employee_df['Department'] == 'Marketing']\n",
    "print(marketing_dept)"
   ]
  },
  {
   "cell_type": "markdown",
   "id": "e1c4013e",
   "metadata": {},
   "source": [
    "3.Use the iloc method to select the Age and Gender columns for the first 4 rows of the dataframe.\n"
   ]
  },
  {
   "cell_type": "code",
   "execution_count": 5,
   "id": "e01bf8b3",
   "metadata": {},
   "outputs": [
    {
     "name": "stdout",
     "output_type": "stream",
     "text": [
      "   Age  Gender\n",
      "0   30    Male\n",
      "1   40  Female\n",
      "2   25    Male\n",
      "3   35  Female\n"
     ]
    }
   ],
   "source": [
    "age_gender = employee_df.iloc[:4, [2, 3]]\n",
    "print(age_gender)"
   ]
  },
  {
   "cell_type": "markdown",
   "id": "ec117f42",
   "metadata": {},
   "source": [
    "4.Use the loc method to select the Salary and Experience columns for all rows where the Gender is \"Male\"."
   ]
  },
  {
   "cell_type": "code",
   "execution_count": 6,
   "id": "5f2a02b3",
   "metadata": {},
   "outputs": [
    {
     "name": "stdout",
     "output_type": "stream",
     "text": [
      "   Salary  Experience\n",
      "0   50000           3\n",
      "2   45000           2\n",
      "4   70000          10\n"
     ]
    }
   ],
   "source": [
    "male_sal_exp = employee_df.loc[employee_df['Gender'] == 'Male', ['Salary', 'Experience']]\n",
    "print(male_sal_exp)"
   ]
  },
  {
   "cell_type": "code",
   "execution_count": null,
   "id": "b71b0438",
   "metadata": {},
   "outputs": [],
   "source": []
  }
 ],
 "metadata": {
  "kernelspec": {
   "display_name": "Python 3 (ipykernel)",
   "language": "python",
   "name": "python3"
  },
  "language_info": {
   "codemirror_mode": {
    "name": "ipython",
    "version": 3
   },
   "file_extension": ".py",
   "mimetype": "text/x-python",
   "name": "python",
   "nbconvert_exporter": "python",
   "pygments_lexer": "ipython3",
   "version": "3.9.13"
  }
 },
 "nbformat": 4,
 "nbformat_minor": 5
}
