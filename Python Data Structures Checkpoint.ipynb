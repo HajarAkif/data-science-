{
 "cells": [
  {
   "cell_type": "raw",
   "id": "830de52e",
   "metadata": {},
   "source": [
    "Question1: \n",
    "Write a Python program to multiplies all the items in a list.\n",
    "for example list=[2, 3, 6]\n",
    "result = 36"
   ]
  },
  {
   "cell_type": "code",
   "execution_count": 7,
   "id": "a1b4364b",
   "metadata": {},
   "outputs": [
    {
     "name": "stdout",
     "output_type": "stream",
     "text": [
      "36\n"
     ]
    }
   ],
   "source": [
    "L=[2,3,6]\n",
    "mult=1\n",
    "for i in L:\n",
    "    mult=mult*i\n",
    "print(mult)"
   ]
  },
  {
   "cell_type": "code",
   "execution_count": 8,
   "id": "3b2962a8",
   "metadata": {},
   "outputs": [
    {
     "name": "stdout",
     "output_type": "stream",
     "text": [
      "36\n"
     ]
    }
   ],
   "source": [
    "def multiply_list(items):\n",
    "    tot = 1\n",
    "    for x in items:\n",
    "        tot *= x\n",
    "    return tot\n",
    "print(multiply_list([2,3,6]))"
   ]
  },
  {
   "cell_type": "raw",
   "id": "19ad6932",
   "metadata": {},
   "source": [
    "Question2\n",
    "Write a Python program to combine two dictionary adding values for common keys.\n",
    "d1 = {'a': 100, 'b': 200, 'c':300}\n",
    "d2 = {'a': 300, 'b': 200, 'd':400}\n",
    "Expected output: {'a': 400, 'b': 400, 'd': 400, 'c': 300}"
   ]
  },
  {
   "cell_type": "code",
   "execution_count": 17,
   "id": "1838329f",
   "metadata": {},
   "outputs": [
    {
     "name": "stdout",
     "output_type": "stream",
     "text": [
      "{'a': 400, 'b': 400, 'c': 300, 'd': 400}\n"
     ]
    }
   ],
   "source": [
    "d1 = {'a': 100, 'b': 200, 'c':300}\n",
    "d2 = {'a': 300, 'b': 200, 'd':400}\n",
    "d3= {}\n",
    "for key1, key2 in zip(d1.keys(),d2.keys()):\n",
    "    if key1 == key2:\n",
    "        d3[key1]= d1[key1]+ d2[key2]\n",
    "    else:\n",
    "        d3[key1]= d1[key1]\n",
    "        d3[key2]= d2[key2]\n",
    "print(d3)     "
   ]
  },
  {
   "cell_type": "raw",
   "id": "edbefd6f",
   "metadata": {},
   "source": [
    "Question 3\n",
    "With a given integral number n, write a program to generate a dictionary that contains (i, i*i) such that is an integral number between 1 and n (both included). and then the program should print the dictionary. Suppose the following input is supplied to the program: 8 Then, the output should be: {1: 1, 2: 4, 3: 9, 4: 16, 5: 25, 6: 36, 7: 49, 8: 64}"
   ]
  },
  {
   "cell_type": "code",
   "execution_count": 26,
   "id": "66d76781",
   "metadata": {},
   "outputs": [
    {
     "name": "stdout",
     "output_type": "stream",
     "text": [
      "Entrez une valeur de n: 8\n",
      "{1: 1, 2: 4, 3: 9, 4: 16, 5: 25, 6: 36, 7: 49, 8: 64}\n"
     ]
    }
   ],
   "source": [
    "n= int(input(\"Entrez une valeur de n: \"))\n",
    "d1 = {i:i*i for i in range(1,n+1)}\n",
    "print (d1)"
   ]
  },
  {
   "cell_type": "code",
   "execution_count": 25,
   "id": "874fc02c",
   "metadata": {},
   "outputs": [
    {
     "name": "stdout",
     "output_type": "stream",
     "text": [
      "Entrez un nombre: 8\n",
      "{1: 1, 2: 4, 3: 9, 4: 16, 5: 25, 6: 36, 7: 49, 8: 64}\n"
     ]
    }
   ],
   "source": [
    "d1 ={}\n",
    "n= int(input(\"Entrez un nombre: \"))\n",
    "for i in range(1,n+1):\n",
    "    d1[i] = i*i\n",
    "print (d1)"
   ]
  }
 ],
 "metadata": {
  "kernelspec": {
   "display_name": "Python 3 (ipykernel)",
   "language": "python",
   "name": "python3"
  },
  "language_info": {
   "codemirror_mode": {
    "name": "ipython",
    "version": 3
   },
   "file_extension": ".py",
   "mimetype": "text/x-python",
   "name": "python",
   "nbconvert_exporter": "python",
   "pygments_lexer": "ipython3",
   "version": "3.9.13"
  }
 },
 "nbformat": 4,
 "nbformat_minor": 5
}
