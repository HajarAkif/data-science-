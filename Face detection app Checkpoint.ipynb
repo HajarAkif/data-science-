{
 "cells": [
  {
   "cell_type": "code",
   "execution_count": 6,
   "id": "de717f7e",
   "metadata": {},
   "outputs": [
    {
     "name": "stderr",
     "output_type": "stream",
     "text": [
      "2023-07-27 23:20:55.310 \n",
      "  \u001b[33m\u001b[1mWarning:\u001b[0m to view this Streamlit app on a browser, run it with the following\n",
      "  command:\n",
      "\n",
      "    streamlit run C:\\Users\\ab\\anaconda3\\lib\\site-packages\\ipykernel_launcher.py [ARGUMENTS]\n"
     ]
    }
   ],
   "source": [
    "import numpy as np\n",
    "import streamlit as st\n",
    "\n",
    "def detect_faces(image, face_cascade, min_neighbors, scale_factor, rectangle_color):\n",
    "    gray_image = cv2.cvtColor(image, cv2.COLOR_BGR2GRAY)\n",
    "    faces = face_cascade.detectMultiScale(gray_image, scaleFactor=scale_factor, minNeighbors=min_neighbors)\n",
    "    \n",
    "    for (x, y, w, h) in faces:\n",
    "        cv2.rectangle(image, (x, y), (x + w, y + h), rectangle_color, 2)\n",
    "    \n",
    "    return image\n",
    "\n",
    "def main():\n",
    "    st.title(\"Application de détection de visages\")\n",
    "    st.write(\"Veuillez télécharger une image pour détecter les visages.\")\n",
    "    \n",
    "    # Instructions pour l'utilisateur\n",
    "    st.write(\"Instructions:\")\n",
    "    st.write(\"1. Téléchargez une image en cliquant sur le bouton 'Parcourir les fichiers' ci-dessous.\")\n",
    "    st.write(\"2. Ajustez les curseurs 'minNeighbors' et 'scaleFactor' selon vos besoins.\")\n",
    "    st.write(\"3. Choisissez la couleur des rectangles en utilisant le sélecteur de couleurs.\")\n",
    "    st.write(\"4. Cliquez sur le bouton 'Détecter les visages' pour traiter l'image et afficher le résultat.\")\n",
    "    st.write(\"5. Vous pouvez enregistrer l'image avec les visages détectés en utilisant le bouton 'Enregistrer l'image'.\")\n",
    "    \n",
    "    uploaded_file = st.file_uploader(\"Choisissez une image...\", type=[\"jpg\", \"jpeg\", \"png\"])\n",
    "    min_neighbors = st.slider(\"Sélectionnez minNeighbors:\", 1, 10, 5)\n",
    "    scale_factor = st.slider(\"Sélectionnez scaleFactor:\", 1.01, 2.0, 1.1)\n",
    "    rectangle_color = st.color_picker(\"Sélectionnez la couleur des rectangles\", \"#FF0000\")\n",
    "    \n",
    "    if uploaded_file is not None:\n",
    "        image = np.array(bytearray(uploaded_file.read()), dtype=np.uint8)\n",
    "        image = cv2.imdecode(image, 1)\n",
    "        \n",
    "        # Charger le modèle de détection de visages pré-entraîné\n",
    "        face_cascade = cv2.CascadeClassifier(cv2.data.haarcascades + 'haarcascade_frontalface_default.xml')\n",
    "        \n",
    "        if st.button(\"Détecter les visages\"):\n",
    "            result_image = detect_faces(image, face_cascade, min_neighbors, scale_factor, rectangle_color)\n",
    "            st.image(result_image, channels=\"BGR\", caption=\"Visages détectés\")\n",
    "            \n",
    "            # Enregistrer l'image avec les visages détectés\n",
    "            if st.button(\"Enregistrer l'image\"):\n",
    "                st.write(\"Enregistrement de l'image...\")\n",
    "                cv2.imwrite(\"result_image.jpg\", cv2.cvtColor(result_image, cv2.COLOR_BGR2RGB))\n",
    "                st.success(\"Image enregistrée avec succès sous le nom 'result_image.jpg'.\")\n",
    "\n",
    "if __name__ == \"__main__\":\n",
    "    main()\n"
   ]
  },
  {
   "cell_type": "code",
   "execution_count": null,
   "id": "1b2a1112",
   "metadata": {},
   "outputs": [],
   "source": []
  }
 ],
 "metadata": {
  "kernelspec": {
   "display_name": "Python 3 (ipykernel)",
   "language": "python",
   "name": "python3"
  },
  "language_info": {
   "codemirror_mode": {
    "name": "ipython",
    "version": 3
   },
   "file_extension": ".py",
   "mimetype": "text/x-python",
   "name": "python",
   "nbconvert_exporter": "python",
   "pygments_lexer": "ipython3",
   "version": "3.9.13"
  }
 },
 "nbformat": 4,
 "nbformat_minor": 5
}
